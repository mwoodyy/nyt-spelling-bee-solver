{
 "cells": [
  {
   "cell_type": "code",
   "execution_count": 67,
   "id": "99b3a12b-2fe8-4823-a9c4-d38a2e979a79",
   "metadata": {},
   "outputs": [
    {
     "name": "stdin",
     "output_type": "stream",
     "text": [
      "Enter center letter: a\n"
     ]
    },
    {
     "name": "stdout",
     "output_type": "stream",
     "text": [
      "269218\n"
     ]
    },
    {
     "name": "stdin",
     "output_type": "stream",
     "text": [
      "Enter the allowed letters:  etchst\n"
     ]
    },
    {
     "name": "stdout",
     "output_type": "stream",
     "text": [
      "['aahs', 'acast', 'acate', 'acates', 'acca', 'acce', 'access', 'accesses', 'accts', 'acea', 'aceae', 'aces', 'aceta', 'acetate', 'acetates', 'achate', 'ache', 'acheat', 'achech', 'aches', 'achete', 'aesc', 'aesthete', 'aesthetes', 'aetat', 'asceses', 'asea', 'aseethe', 'ashet', 'assate', 'asse', 'asses', 'assess', 'assessee', 'assesses', 'asset', 'asseth', 'assets', 'asst', 'astate', 'atees', 'ates', 'athecate', 'attacca', 'attach', 'attache', 'attaches', 'attaste', 'attatches', 'atte', 'attest', 'attests', 'cacas', 'cace', 'cachaca', 'cache', 'caches', 'cachet', 'cachets', 'caeca', 'casas', 'casate', 'casease', 'caseases', 'caseate', 'caseates', 'cases', 'casette', 'casettes', 'casha', 'cashes', 'cassata', 'cassatas', 'cassate', 'casse', 'cassette', 'cassettes', 'casshe', 'cast', 'caste', 'castes', 'casteth', 'casts', 'catasta', 'catastases', 'catastate', 'catch', 'catches', 'catecheses', 'cathect', 'cathects', 'cats', 'cease', 'ceases', 'ceca', 'cecca', 'cesta', 'cestas', 'chaa', 'chacate', 'chacte', 'chaeta', 'chaetae', 'chases', 'chass', 'chasses', 'chaste', 'chastest', 'chat', 'chats', 'chatta', 'chattah', 'cheat', 'cheatee', 'cheats', 'cheecha', 'cheetah', 'cheetahs', 'chetah', 'chetahs', 'each', 'ease', 'eases', 'easts', 'eatche', 'eath', 'eats', 'echea', 'ectases', 'esca', 'escheat', 'escheats', 'estate', 'estates', 'estats', 'hache', 'hacht', 'haec', 'haes', 'haet', 'haets', 'haha', 'hahas', 'hahs', 'hash', 'hasheesh', 'hasheeshes', 'hashes', 'hasht', 'hast', 'hasta', 'hastate', 'haste', 'hastes', 'hatches', 'hatchet', 'hatchets', 'hate', 'hates', 'hath', 'hats', 'hatt', 'hatte', 'heat', 'heaths', 'heats', 'sacate', 'saccate', 'sachet', 'sachets', 'saeta', 'sahh', 'sasa', 'sash', 'sashes', 'sasse', 'sasses', 'sata', 'sate', 'sates', 'scase', 'scatch', 'scathe', 'scathes', 'scats', 'scatt', 'scatts', 'sceat', 'seacatch', 'seah', 'seat', 'seathe', 'seats', 'seecatch', 'sessa', 'setae', 'shahee', 'shahs', 'shat', 'sheas', 'sheat', 'sheath', 'sheathe', 'sheathes', 'sheaths', 'stacc', 'stacte', 'stactes', 'stases', 'stash', 'stashes', 'stat', 'stats', 'taata', 'taces', 'tacet', 'tach', 'tache', 'taches', 'tachs', 'tact', 'tacts', 'taha', 'tash', 'tassah', 'tasse', 'tasses', 'tasset', 'tassets', 'taste', 'tastes', 'tath', 'tats', 'tatta', 'tchast', 'teache', 'teaches', 'teas', 'tease', 'teases', 'teat', 'teathe', 'teats', 'tecta', 'teethache', 'testa', 'testae', 'testata', 'testate', 'testates', 'thae', 'that', 'thatches', 'thats', 'theah', 'theat', 'theca', 'thecae', 'thecate', 'thetas']\n"
     ]
    }
   ],
   "source": [
    "# nyt spelling bee solver\n",
    "# import set of all english words and convert to list\n",
    "with open(\"words.txt\", \"r\") as file:\n",
    "    all_words = [line.strip() for line in file]\n",
    "    \n",
    "# print(all_words[:10])\n",
    "# print(len(all_words))\n",
    "\n",
    "# drop words < 4 letters\n",
    "all_words = [word for word in all_words if len(word) >= 4]\n",
    "# print(len(filter_words1))\n",
    "\n",
    "# get input of center letter\n",
    "center_letter = input('Enter center letter:' )\n",
    "\n",
    "# drop words without that letter\n",
    "all_words = [word for word in all_words if center_letter in word]\n",
    "print(len(all_words))\n",
    "\n",
    "# get input of other letters\n",
    "outside_letters = input(\"Enter the allowed letters: \").lower()\n",
    "outside_set = set(outside_letters + center_letter)\n",
    "\n",
    "valid_words = [word for word in all_words if set(word).issubset(outside_set)]\n",
    "print(valid_words)"
   ]
  },
  {
   "cell_type": "code",
   "execution_count": null,
   "id": "18b0cee8-8464-4651-9c3d-bc8789bacad1",
   "metadata": {},
   "outputs": [],
   "source": []
  }
 ],
 "metadata": {
  "kernelspec": {
   "display_name": "Python [conda env:base] *",
   "language": "python",
   "name": "conda-base-py"
  },
  "language_info": {
   "codemirror_mode": {
    "name": "ipython",
    "version": 3
   },
   "file_extension": ".py",
   "mimetype": "text/x-python",
   "name": "python",
   "nbconvert_exporter": "python",
   "pygments_lexer": "ipython3",
   "version": "3.12.3"
  }
 },
 "nbformat": 4,
 "nbformat_minor": 5
}
